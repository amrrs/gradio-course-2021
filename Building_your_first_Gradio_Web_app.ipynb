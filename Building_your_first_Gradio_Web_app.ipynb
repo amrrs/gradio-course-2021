{
  "nbformat": 4,
  "nbformat_minor": 0,
  "metadata": {
    "colab": {
      "name": "Building your first Gradio Web app",
      "provenance": []
    },
    "kernelspec": {
      "name": "python3",
      "display_name": "Python 3"
    },
    "language_info": {
      "name": "python"
    }
  },
  "cells": [
    {
      "cell_type": "code",
      "metadata": {
        "id": "YCO7Y-gfK0wB"
      },
      "source": [
        "! pip install gradio "
      ],
      "execution_count": null,
      "outputs": []
    },
    {
      "cell_type": "code",
      "metadata": {
        "id": "YWHL2PFQMHRx"
      },
      "source": [
        "import gradio as gr"
      ],
      "execution_count": 2,
      "outputs": []
    },
    {
      "cell_type": "code",
      "metadata": {
        "id": "rpIGG8OSNRak"
      },
      "source": [
        "def hello_world(name):\n",
        "  return \"Hello.... 👋 ...\"+name + \"!!!!\""
      ],
      "execution_count": 4,
      "outputs": []
    },
    {
      "cell_type": "code",
      "metadata": {
        "colab": {
          "base_uri": "https://localhost:8080/",
          "height": 35
        },
        "id": "ALjK-PZaNbvL",
        "outputId": "d0d63664-9d13-4534-ce0f-dff734806877"
      },
      "source": [
        "hello_world(\"1littlecoder\")"
      ],
      "execution_count": 5,
      "outputs": [
        {
          "output_type": "execute_result",
          "data": {
            "application/vnd.google.colaboratory.intrinsic+json": {
              "type": "string"
            },
            "text/plain": [
              "'Hello.... 👋 ...1littlecoder!!!!'"
            ]
          },
          "metadata": {},
          "execution_count": 5
        }
      ]
    },
    {
      "cell_type": "code",
      "metadata": {
        "id": "DSbXtAW3Nd9S"
      },
      "source": [
        "interface = gr.Interface(fn = hello_world, inputs = 'text', outputs = \"text\")"
      ],
      "execution_count": 6,
      "outputs": []
    },
    {
      "cell_type": "code",
      "metadata": {
        "colab": {
          "base_uri": "https://localhost:8080/",
          "height": 641
        },
        "id": "iHufFg5vNoYW",
        "outputId": "d1904f0c-a991-406b-cd2d-8c2cfa10f24b"
      },
      "source": [
        "interface.launch()"
      ],
      "execution_count": 7,
      "outputs": [
        {
          "output_type": "stream",
          "name": "stdout",
          "text": [
            "Colab notebook detected. To show errors in colab notebook, set `debug=True` in `launch()`\n",
            "Running on public URL: https://36748.gradio.app\n",
            "\n",
            "This share link will expire in 72 hours. To get longer links, send an email to: support@gradio.app\n"
          ]
        },
        {
          "output_type": "display_data",
          "data": {
            "text/html": [
              "\n",
              "        <iframe\n",
              "            width=\"900\"\n",
              "            height=\"500\"\n",
              "            src=\"https://36748.gradio.app\"\n",
              "            frameborder=\"0\"\n",
              "            allowfullscreen\n",
              "        ></iframe>\n",
              "        "
            ],
            "text/plain": [
              "<IPython.lib.display.IFrame at 0x7fdb97fd3f90>"
            ]
          },
          "metadata": {}
        },
        {
          "output_type": "execute_result",
          "data": {
            "text/plain": [
              "(<Flask 'gradio.networking'>,\n",
              " 'http://127.0.0.1:7860/',\n",
              " 'https://36748.gradio.app')"
            ]
          },
          "metadata": {},
          "execution_count": 7
        }
      ]
    },
    {
      "cell_type": "code",
      "metadata": {
        "id": "MwXpmWCsN07G"
      },
      "source": [
        "interface = gr.Interface(fn = hello_world, \n",
        "                         inputs = gr.inputs.Textbox(lines = 10, placeholder=\"Enter your input here.....\"), \n",
        "                         outputs = \"text\")"
      ],
      "execution_count": 14,
      "outputs": []
    },
    {
      "cell_type": "code",
      "metadata": {
        "colab": {
          "base_uri": "https://localhost:8080/",
          "height": 641
        },
        "id": "Buy_EMjyRYX3",
        "outputId": "e45987a4-e6ab-4dd3-deba-57df8bdb70e2"
      },
      "source": [
        "interface.launch()"
      ],
      "execution_count": 15,
      "outputs": [
        {
          "output_type": "stream",
          "name": "stdout",
          "text": [
            "Colab notebook detected. To show errors in colab notebook, set `debug=True` in `launch()`\n",
            "Running on public URL: https://44140.gradio.app\n",
            "\n",
            "This share link will expire in 72 hours. To get longer links, send an email to: support@gradio.app\n"
          ]
        },
        {
          "output_type": "display_data",
          "data": {
            "text/html": [
              "\n",
              "        <iframe\n",
              "            width=\"900\"\n",
              "            height=\"500\"\n",
              "            src=\"https://44140.gradio.app\"\n",
              "            frameborder=\"0\"\n",
              "            allowfullscreen\n",
              "        ></iframe>\n",
              "        "
            ],
            "text/plain": [
              "<IPython.lib.display.IFrame at 0x7f38e30be8d0>"
            ]
          },
          "metadata": {}
        },
        {
          "output_type": "execute_result",
          "data": {
            "text/plain": [
              "(<Flask 'gradio.networking'>,\n",
              " 'http://127.0.0.1:7862/',\n",
              " 'https://44140.gradio.app')"
            ]
          },
          "metadata": {},
          "execution_count": 15
        }
      ]
    },
    {
      "cell_type": "code",
      "metadata": {
        "colab": {
          "base_uri": "https://localhost:8080/",
          "height": 641
        },
        "id": "Ykvb9RjKRZji",
        "outputId": "a8886f48-e5ba-4a9a-d31c-3cd68261eddd"
      },
      "source": [
        "import gradio as gr\n",
        "import numpy as np\n",
        "\n",
        "def sepia(input_img):\n",
        "  sepia_filter = np.array([[.393, .769, .189],\n",
        "                           [.349, .686, .168],\n",
        "                           [.272, .534, .131]])\n",
        "  sepia_img = input_img.dot(sepia_filter.T)\n",
        "  sepia_img /= sepia_img.max()                          \n",
        "  return sepia_img\n",
        "\n",
        "iface = gr.Interface(sepia, gr.inputs.Image(shape=(200, 200)), \"image\")\n",
        "\n",
        "iface.launch()"
      ],
      "execution_count": 16,
      "outputs": [
        {
          "output_type": "stream",
          "name": "stdout",
          "text": [
            "Colab notebook detected. To show errors in colab notebook, set `debug=True` in `launch()`\n",
            "Running on public URL: https://15052.gradio.app\n",
            "\n",
            "This share link will expire in 72 hours. To get longer links, send an email to: support@gradio.app\n"
          ]
        },
        {
          "output_type": "display_data",
          "data": {
            "text/html": [
              "\n",
              "        <iframe\n",
              "            width=\"900\"\n",
              "            height=\"500\"\n",
              "            src=\"https://15052.gradio.app\"\n",
              "            frameborder=\"0\"\n",
              "            allowfullscreen\n",
              "        ></iframe>\n",
              "        "
            ],
            "text/plain": [
              "<IPython.lib.display.IFrame at 0x7f38e30ba890>"
            ]
          },
          "metadata": {}
        },
        {
          "output_type": "execute_result",
          "data": {
            "text/plain": [
              "(<Flask 'gradio.networking'>,\n",
              " 'http://127.0.0.1:7863/',\n",
              " 'https://15052.gradio.app')"
            ]
          },
          "metadata": {},
          "execution_count": 16
        }
      ]
    },
    {
      "cell_type": "code",
      "metadata": {
        "colab": {
          "base_uri": "https://localhost:8080/",
          "height": 889
        },
        "id": "8pxn81soR4Gv",
        "outputId": "a21a755d-7fe8-425e-9244-5e00e098444c"
      },
      "source": [
        "import gradio as gr\n",
        "import numpy as np\n",
        "import pandas as pd\n",
        "import matplotlib.pyplot as plt\n",
        "\n",
        "def sales_projections(employee_data):\n",
        "    sales_data = employee_data.iloc[:, 1:4].astype(\"int\").to_numpy()\n",
        "    regression_values = np.apply_along_axis(lambda row: \n",
        "        np.array(np.poly1d(np.polyfit([0,1,2], row, 2))), 0, sales_data)\n",
        "    projected_months = np.repeat(np.expand_dims(\n",
        "        np.arange(3,12), 0), len(sales_data), axis=0)\n",
        "    projected_values = np.array([\n",
        "        month * month * regression[0] + month * regression[1] + regression[2]\n",
        "        for month, regression in zip(projected_months, regression_values)])\n",
        "    plt.plot(projected_values.T)\n",
        "    plt.legend(employee_data[\"Name\"])\n",
        "    return plt.gcf()\n",
        "\n",
        "iface = gr.Interface(sales_projections, \n",
        "    gr.inputs.Dataframe(\n",
        "        headers=[\"Name\", \"Jan Sales\", \"Feb Sales\", \"Mar Sales\"],\n",
        "        default=[[\"Jon\", 12, 100, 18], [\"Alice\", 14, 17, 2], [\"Sana\", 8, 9.5, 12]]\n",
        "    ),\n",
        "    [\n",
        "    \n",
        "        \"plot\"\n",
        "    ],\n",
        "    description=\"Enter sales figures for employees to predict sales trajectory over year.\"\n",
        ")\n",
        "iface.launch()"
      ],
      "execution_count": 19,
      "outputs": [
        {
          "output_type": "stream",
          "name": "stdout",
          "text": [
            "Colab notebook detected. To show errors in colab notebook, set `debug=True` in `launch()`\n",
            "Running on public URL: https://22580.gradio.app\n",
            "\n",
            "This share link will expire in 72 hours. To get longer links, send an email to: support@gradio.app\n"
          ]
        },
        {
          "output_type": "display_data",
          "data": {
            "text/html": [
              "\n",
              "        <iframe\n",
              "            width=\"900\"\n",
              "            height=\"500\"\n",
              "            src=\"https://22580.gradio.app\"\n",
              "            frameborder=\"0\"\n",
              "            allowfullscreen\n",
              "        ></iframe>\n",
              "        "
            ],
            "text/plain": [
              "<IPython.lib.display.IFrame at 0x7f38e3006fd0>"
            ]
          },
          "metadata": {}
        },
        {
          "output_type": "execute_result",
          "data": {
            "text/plain": [
              "(<Flask 'gradio.networking'>,\n",
              " 'http://127.0.0.1:7866/',\n",
              " 'https://22580.gradio.app')"
            ]
          },
          "metadata": {},
          "execution_count": 19
        },
        {
          "output_type": "display_data",
          "data": {
            "image/png": "[encoded data removed]",
            "text/plain": [
              "<Figure size 432x288 with 1 Axes>"
            ]
          },
          "metadata": {
            "needs_background": "light"
          }
        }
      ]
    },
    {
      "cell_type": "code",
      "metadata": {
        "id": "ZRGzdZhtSwar"
      },
      "source": [
        "import gradio as gr"
      ],
      "execution_count": 39,
      "outputs": []
    },
    {
      "cell_type": "code",
      "metadata": {
        "id": "2gtXpalK20La"
      },
      "source": [
        "def bmi(name,height,weight,feeling):\n",
        "  bmi_val = weight / ((height/100) ** 2)\n",
        "  result_emoticon = \"😀\" if bmi_val < 30 else \"😞\"\n",
        "  output_str = \"Hello 👋 \" + name + \"... \\n your BMI is .....\" + str(bmi_val)\n",
        "  txt = \"Happy\" if feeling else \"Sad\" \n",
        "  return(output_str, result_emoticon,txt)"
      ],
      "execution_count": 40,
      "outputs": []
    },
    {
      "cell_type": "code",
      "metadata": {
        "id": "P96VdWnI3Qwg"
      },
      "source": [
        "interface = gr.Interface(\n",
        "    fn = bmi,\n",
        "    inputs = [\"text\", gr.inputs.Slider(1,200,label = \"Height in CMs\"), gr.inputs.Slider(1,100,label = \"Weight in Kg\"),\n",
        "              gr.inputs.Checkbox(\"Your Feeling Today\")],\n",
        "    outputs = ['text','text','text'],\n",
        "    examples = [['1littlecoder',100,50,True],\n",
        "                ['Mars',120,20,True],\n",
        "                ['🌝 ',200,50,False]],\n",
        "    #theme = 'darkhuggingface',\n",
        "    css = \"\"\"\n",
        "    body {background-color : yellow}\n",
        "    \"\"\"\n",
        ")"
      ],
      "execution_count": 41,
      "outputs": []
    },
    {
      "cell_type": "code",
      "metadata": {
        "colab": {
          "base_uri": "https://localhost:8080/",
          "height": 641
        },
        "id": "9IEZ8nwB3r4z",
        "outputId": "da647f3b-e508-429d-dd06-705962426d71"
      },
      "source": [
        "interface.launch(auth = ('user','1littlecoder'), auth_message = \"Check your <strong>Login details</strong> sent to your <i>email 📧 </i>\")"
      ],
      "execution_count": 50,
      "outputs": [
        {
          "output_type": "stream",
          "name": "stdout",
          "text": [
            "Colab notebook detected. To show errors in colab notebook, set `debug=True` in `launch()`\n",
            "Running on public URL: https://42864.gradio.app\n",
            "\n",
            "This share link will expire in 72 hours. To get longer links, send an email to: support@gradio.app\n"
          ]
        },
        {
          "output_type": "display_data",
          "data": {
            "text/html": [
              "\n",
              "        <iframe\n",
              "            width=\"900\"\n",
              "            height=\"500\"\n",
              "            src=\"https://42864.gradio.app\"\n",
              "            frameborder=\"0\"\n",
              "            allowfullscreen\n",
              "        ></iframe>\n",
              "        "
            ],
            "text/plain": [
              "<IPython.lib.display.IFrame at 0x7f6642a72810>"
            ]
          },
          "metadata": {}
        },
        {
          "output_type": "execute_result",
          "data": {
            "text/plain": [
              "(<Flask 'gradio.networking'>,\n",
              " 'http://127.0.0.1:7882/',\n",
              " 'https://42864.gradio.app')"
            ]
          },
          "metadata": {},
          "execution_count": 50
        }
      ]
    },
    {
      "cell_type": "code",
      "metadata": {
        "id": "LOgxpLcT9LvB"
      },
      "source": [
        "import pandas as pd"
      ],
      "execution_count": 10,
      "outputs": []
    },
    {
      "cell_type": "code",
      "metadata": {
        "colab": {
          "base_uri": "https://localhost:8080/",
          "height": 111
        },
        "id": "X5EsqcdnbRYd",
        "outputId": "4accd564-924c-4bfb-884a-ed1c905f5103"
      },
      "source": [
        "pd.read_csv(\"/content/flagged/log.csv\")"
      ],
      "execution_count": 11,
      "outputs": [
        {
          "output_type": "execute_result",
          "data": {
            "text/html": [
              "<div>\n",
              "<style scoped>\n",
              "    .dataframe tbody tr th:only-of-type {\n",
              "        vertical-align: middle;\n",
              "    }\n",
              "\n",
              "    .dataframe tbody tr th {\n",
              "        vertical-align: top;\n",
              "    }\n",
              "\n",
              "    .dataframe thead th {\n",
              "        text-align: right;\n",
              "    }\n",
              "</style>\n",
              "<table border=\"1\" class=\"dataframe\">\n",
              "  <thead>\n",
              "    <tr style=\"text-align: right;\">\n",
              "      <th></th>\n",
              "      <th>name</th>\n",
              "      <th>Height in CMs</th>\n",
              "      <th>Weight in Kg</th>\n",
              "      <th>feeling</th>\n",
              "      <th>Output 1</th>\n",
              "      <th>Output 2</th>\n",
              "      <th>Output 3</th>\n",
              "      <th>timestamp</th>\n",
              "    </tr>\n",
              "  </thead>\n",
              "  <tbody>\n",
              "    <tr>\n",
              "      <th>0</th>\n",
              "      <td>sdfsdf</td>\n",
              "      <td>1</td>\n",
              "      <td>1</td>\n",
              "      <td>Your Feeling Today</td>\n",
              "      <td>Hello 👋 sdfsdf... \\n your BMI is .....10000.0</td>\n",
              "      <td>😞</td>\n",
              "      <td>Happy</td>\n",
              "      <td>2021-11-22 06:54:19.003489</td>\n",
              "    </tr>\n",
              "    <tr>\n",
              "      <th>1</th>\n",
              "      <td>sdfsdf</td>\n",
              "      <td>150</td>\n",
              "      <td>77</td>\n",
              "      <td>False</td>\n",
              "      <td>Hello 👋 sdfsdf... \\n your BMI is .....34.22222...</td>\n",
              "      <td>😞</td>\n",
              "      <td>Sad</td>\n",
              "      <td>2021-11-22 06:54:25.189483</td>\n",
              "    </tr>\n",
              "  </tbody>\n",
              "</table>\n",
              "</div>"
            ],
            "text/plain": [
              "     name  Height in CMs  ...  Output 3                   timestamp\n",
              "0  sdfsdf              1  ...     Happy  2021-11-22 06:54:19.003489\n",
              "1  sdfsdf            150  ...       Sad  2021-11-22 06:54:25.189483\n",
              "\n",
              "[2 rows x 8 columns]"
            ]
          },
          "metadata": {},
          "execution_count": 11
        }
      ]
    },
    {
      "cell_type": "code",
      "metadata": {
        "colab": {
          "base_uri": "https://localhost:8080/",
          "height": 641
        },
        "id": "61RCIPWjbSIl",
        "outputId": "61e7a7f8-b59d-4507-97bd-9905100c7e67"
      },
      "source": [
        "import gradio as gr\n",
        "import random\n",
        "\n",
        "def chat(message):\n",
        "    history = gr.get_state() or []\n",
        "    if message.startswith(\"How many\"):\n",
        "        response = random.randint(1,10)\n",
        "    elif message.startswith(\"How\"):\n",
        "        response = random.choice([\"Great\", \"Good\", \"Okay\", \"Bad\"])\n",
        "    elif message.startswith(\"Where\"):\n",
        "        response = random.choice([\"Here\", \"There\", \"Somewhere\"])\n",
        "    else:\n",
        "        response = \"I don't know\"\n",
        "    history.append((message, response))\n",
        "    gr.set_state(history)\n",
        "    html = \"\"\n",
        "    for user_msg, resp_msg in history:\n",
        "        html += f\"{user_msg}\"\n",
        "        html += f\"{resp_msg}\"\n",
        "    html += \"\"\n",
        "    return html\n",
        "\n",
        "iface = gr.Interface(chat, \"text\", \"html\", css=\"\"\"\n",
        "    .chatbox {display:flex;flex-direction:column}\n",
        "    .user_msg, .resp_msg {padding:4px;margin-bottom:4px;border-radius:4px;width:80%}\n",
        "    .user_msg {background-color:cornflowerblue;color:white;align-self:start}\n",
        "    .resp_msg {background-color:lightgray;align-self:self-end}\n",
        "\"\"\", allow_screenshot=False, allow_flagging=False)\n",
        "iface.launch()"
      ],
      "execution_count": 25,
      "outputs": [
        {
          "output_type": "stream",
          "name": "stdout",
          "text": [
            "Colab notebook detected. To show errors in colab notebook, set `debug=True` in `launch()`\n",
            "Running on public URL: https://59486.gradio.app\n",
            "\n",
            "This share link will expire in 72 hours. To get longer links, send an email to: support@gradio.app\n"
          ]
        },
        {
          "output_type": "display_data",
          "data": {
            "text/html": [
              "\n",
              "        <iframe\n",
              "            width=\"900\"\n",
              "            height=\"500\"\n",
              "            src=\"https://59486.gradio.app\"\n",
              "            frameborder=\"0\"\n",
              "            allowfullscreen\n",
              "        ></iframe>\n",
              "        "
            ],
            "text/plain": [
              "<IPython.lib.display.IFrame at 0x7f664905db90>"
            ]
          },
          "metadata": {}
        },
        {
          "output_type": "execute_result",
          "data": {
            "text/plain": [
              "(<Flask 'gradio.networking'>,\n",
              " 'http://127.0.0.1:7869/',\n",
              " 'https://59486.gradio.app')"
            ]
          },
          "metadata": {},
          "execution_count": 25
        }
      ]
    },
    {
      "cell_type": "code",
      "metadata": {
        "id": "4sjdJlig1GMK"
      },
      "source": [
        ""
      ],
      "execution_count": null,
      "outputs": []
    }
  ]
}